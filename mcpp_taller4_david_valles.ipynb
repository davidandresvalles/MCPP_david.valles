{
 "cells": [
  {
   "cell_type": "markdown",
   "metadata": {},
   "source": [
    "# Taller 4\n",
    "Métodos Computacionales para Políticas Públicas - URosario\n",
    "\n",
    "**Entrega: viernes 3-mar-2017 11:59 PM**"
   ]
  },
  {
   "cell_type": "markdown",
   "metadata": {},
   "source": [
    "<div class=\"alert alert-success\">\n",
    "**[David Valles]** <br><br>\n",
    "[david.valles@urosario.edu.co]\n",
    "</div>"
   ]
  },
  {
   "cell_type": "markdown",
   "metadata": {},
   "source": [
    "## Instrucciones:\n",
    "- Guarde una copia de este *Jupyter Notebook* en su computador, idealmente en una carpeta destinada al material del curso.\n",
    "- Modifique el nombre del archivo del *notebook*, agregando al final un guión inferior y su nombre y apellido, separados estos últimos por otro guión inferior. Por ejemplo, mi *notebook* se llamaría: mcpp_taller4_santiago_matallana\n",
    "- Marque el *notebook* con su nombre y e-mail en el bloque verde arriba. Reemplace el texto \"[Su nombre acá]\" con su nombre y apellido. Similar para su e-mail.\n",
    "- Desarrolle la totalidad del taller sobre este *notebook*, insertando las celdas que sea necesario debajo de cada pregunta. Haga buen uso de las celdas para código y de las celdas tipo *markdown* según el caso.\n",
    "- Recuerde salvar periódicamente sus avances.\n",
    "- Cuando termine el taller:\n",
    "    1. Descárguelo en PDF.\n",
    "    2. Suba los dos archivos (.pdf y .ipynb) a su repositorio en GitHub antes de la fecha y hora límites.\n",
    "\n",
    "(Todos los ejercicios tienen el mismo valor.)"
   ]
  },
  {
   "cell_type": "markdown",
   "metadata": {},
   "source": [
    "---"
   ]
  },
  {
   "cell_type": "markdown",
   "metadata": {},
   "source": [
    "## Zelle, Exercises 6.8 (p. 159):\n",
    "\n",
    "- True/False: 1-10\n",
    "- Multiple choice: 2, 3, 6, 7, 10\n",
    "- Programming Exercises: 1, 3, 4, 11, 12, 13"
   ]
  },
  {
   "cell_type": "markdown",
   "metadata": {},
   "source": [
    "## True/False"
   ]
  },
  {
   "cell_type": "raw",
   "metadata": {},
   "source": [
    "Respuestas:\n",
    "    1. False\n",
    "    2. False\n",
    "    3. True\n",
    "    4. True\n",
    "    5. False\n",
    "    6. False\n",
    "    7. False\n",
    "    8. True\n",
    "    9. True\n",
    "    10. False"
   ]
  },
  {
   "cell_type": "markdown",
   "metadata": {},
   "source": [
    "## Multiple choice"
   ]
  },
  {
   "cell_type": "raw",
   "metadata": {
    "collapsed": true
   },
   "source": [
    "Respuestas:\n",
    "    2. a) def \n",
    "    3. a) return\n",
    "    6. a) by value\n",
    "    7. d) to demonstrate intellectual superiority\n",
    "    10 a) mutable"
   ]
  },
  {
   "cell_type": "markdown",
   "metadata": {},
   "source": [
    "## Programming Exercises"
   ]
  },
  {
   "cell_type": "markdown",
   "metadata": {},
   "source": [
    "## 1."
   ]
  },
  {
   "cell_type": "code",
   "execution_count": 1,
   "metadata": {
    "collapsed": false
   },
   "outputs": [
    {
     "name": "stdout",
     "output_type": "stream",
     "text": [
      "Old MacDonald had a farm, Ee-igh, Ee-igh, Oh!\n",
      "And on that farm he had a cow Ee-igh, Ee-igh, Oh!\n",
      "With a moo, moo here, and a moo, moo there\n",
      "Here a moo, moo there moo, moo everywhere a moo, moo!\n",
      "Old MacDonald had a farm, Ee-igh, Ee-igh, Oh!\n",
      "\n",
      "Old MacDonald had a farm, Ee-igh, Ee-igh, Oh!\n",
      "And on that farm he had a horse Ee-igh, Ee-igh, Oh!\n",
      "With a ho, ho here, and a ho, ho there\n",
      "Here a ho, ho there ho, ho everywhere a ho, ho!\n",
      "Old MacDonald had a farm, Ee-igh, Ee-igh, Oh!\n",
      "\n",
      "Old MacDonald had a farm, Ee-igh, Ee-igh, Oh!\n",
      "And on that farm he had a chicken Ee-igh, Ee-igh, Oh!\n",
      "With a pio, pio here, and a pio, pio there\n",
      "Here a pio, pio there pio, pio everywhere a pio, pio!\n",
      "Old MacDonald had a farm, Ee-igh, Ee-igh, Oh!\n",
      "\n",
      "Old MacDonald had a farm, Ee-igh, Ee-igh, Oh!\n",
      "And on that farm he had a pig Ee-igh, Ee-igh, Oh!\n",
      "With a ugh, ugh here, and a ugh, ugh there\n",
      "Here a ugh, ugh there ugh, ugh everywhere a ugh, ugh!\n",
      "Old MacDonald had a farm, Ee-igh, Ee-igh, Oh!\n",
      "\n",
      "Old MacDonald had a farm, Ee-igh, Ee-igh, Oh!\n",
      "And on that farm he had a dog Ee-igh, Ee-igh, Oh!\n",
      "With a guau, guau here, and a guau, guau there\n",
      "Here a guau, guau there guau, guau everywhere a guau, guau!\n",
      "Old MacDonald had a farm, Ee-igh, Ee-igh, Oh!\n",
      "\n"
     ]
    }
   ],
   "source": [
    "animales=[[\"cow\",\"moo\"],[\"horse\",\"ho\"],[\"chicken\",\"pio\"], [\"pig\",\"ugh\"],[\"dog\",\"guau\"]]\n",
    "for i, x in animales:\n",
    "        x = x + \", \" + x\n",
    "        print( \"Old MacDonald had a farm, Ee-igh, Ee-igh, Oh!\")\n",
    "        print( \"And on that farm he had a\", i +\" \"+ \"Ee-igh, Ee-igh, Oh!\" )\n",
    "        print( \"With a\"+\" \" + x + \" here, and a \" + x + \" there\")\n",
    "        print( \"Here a\"+\" \" + x + \" there \" + x + \n",
    "                \" everywhere a \" + x + \"!\" )\n",
    "        print( \"Old MacDonald had a farm, Ee-igh, Ee-igh, Oh!\" )\n",
    "        print()"
   ]
  },
  {
   "cell_type": "markdown",
   "metadata": {},
   "source": [
    "## 3."
   ]
  },
  {
   "cell_type": "code",
   "execution_count": 2,
   "metadata": {
    "collapsed": false,
    "scrolled": true
   },
   "outputs": [],
   "source": [
    "PI = 3.141592653\n",
    "\n",
    "def sphereArea(radius):\n",
    "    return 4*PI*radius**2\n",
    "\n",
    "def sphereVolume(radius):\n",
    "    return 4/3 *PI*radius**3"
   ]
  },
  {
   "cell_type": "code",
   "execution_count": 3,
   "metadata": {
    "collapsed": false
   },
   "outputs": [
    {
     "data": {
      "text/plain": [
       "50.265482448"
      ]
     },
     "execution_count": 3,
     "metadata": {},
     "output_type": "execute_result"
    }
   ],
   "source": [
    "sphereArea(2)"
   ]
  },
  {
   "cell_type": "code",
   "execution_count": 4,
   "metadata": {
    "collapsed": false
   },
   "outputs": [
    {
     "data": {
      "text/plain": [
       "33.510321632"
      ]
     },
     "execution_count": 4,
     "metadata": {},
     "output_type": "execute_result"
    }
   ],
   "source": [
    "sphereVolume(2)"
   ]
  },
  {
   "cell_type": "markdown",
   "metadata": {},
   "source": [
    "## 4."
   ]
  },
  {
   "cell_type": "code",
   "execution_count": 21,
   "metadata": {
    "collapsed": false
   },
   "outputs": [],
   "source": [
    "def sumN(n):\n",
    "    numero=0\n",
    "    for i in range(n+1):\n",
    "        numero=numero+i\n",
    "    return numero "
   ]
  },
  {
   "cell_type": "code",
   "execution_count": 22,
   "metadata": {
    "collapsed": false
   },
   "outputs": [
    {
     "data": {
      "text/plain": [
       "15"
      ]
     },
     "execution_count": 22,
     "metadata": {},
     "output_type": "execute_result"
    }
   ],
   "source": [
    "sumN(5)"
   ]
  },
  {
   "cell_type": "code",
   "execution_count": 7,
   "metadata": {
    "collapsed": true
   },
   "outputs": [],
   "source": [
    "def sumNCubes(n):\n",
    "    numero=0\n",
    "    for i in range(n+1):\n",
    "        numero=numero+(i**3)\n",
    "    return numero"
   ]
  },
  {
   "cell_type": "code",
   "execution_count": 8,
   "metadata": {
    "collapsed": false
   },
   "outputs": [
    {
     "data": {
      "text/plain": [
       "9"
      ]
     },
     "execution_count": 8,
     "metadata": {},
     "output_type": "execute_result"
    }
   ],
   "source": [
    "sumNCubes(2)"
   ]
  },
  {
   "cell_type": "markdown",
   "metadata": {},
   "source": [
    "## 11."
   ]
  },
  {
   "cell_type": "code",
   "execution_count": 23,
   "metadata": {
    "collapsed": true
   },
   "outputs": [],
   "source": [
    "num=[1,2,3,4,5]\n",
    "def squareEach(nums):\n",
    "    for i in range(len(nums)):\n",
    "        nums[i] = nums[i] ** 2\n",
    "    print (nums)"
   ]
  },
  {
   "cell_type": "code",
   "execution_count": 24,
   "metadata": {
    "collapsed": false
   },
   "outputs": [
    {
     "name": "stdout",
     "output_type": "stream",
     "text": [
      "[1, 4, 9, 16, 25]\n"
     ]
    }
   ],
   "source": [
    "squareEach(num)"
   ]
  },
  {
   "cell_type": "markdown",
   "metadata": {},
   "source": [
    "## 12."
   ]
  },
  {
   "cell_type": "code",
   "execution_count": 17,
   "metadata": {
    "collapsed": true
   },
   "outputs": [],
   "source": [
    "num=[1,2,3,4,5,5]\n",
    "def sumList(nums):\n",
    "    numero=0\n",
    "    for i in nums:\n",
    "        numero= numero + i\n",
    "    return numero"
   ]
  },
  {
   "cell_type": "code",
   "execution_count": 18,
   "metadata": {
    "collapsed": false
   },
   "outputs": [
    {
     "data": {
      "text/plain": [
       "20"
      ]
     },
     "execution_count": 18,
     "metadata": {},
     "output_type": "execute_result"
    }
   ],
   "source": [
    "sumList(num)"
   ]
  },
  {
   "cell_type": "markdown",
   "metadata": {},
   "source": [
    "## 13."
   ]
  },
  {
   "cell_type": "code",
   "execution_count": 19,
   "metadata": {
    "collapsed": true
   },
   "outputs": [],
   "source": [
    " def toNumbers(strList):\n",
    "        return [int(i) for i in strList]\n",
    "a=['1','2','3']"
   ]
  },
  {
   "cell_type": "code",
   "execution_count": 20,
   "metadata": {
    "collapsed": false
   },
   "outputs": [
    {
     "data": {
      "text/plain": [
       "[1, 2, 3]"
      ]
     },
     "execution_count": 20,
     "metadata": {},
     "output_type": "execute_result"
    }
   ],
   "source": [
    "toNumbers(a)"
   ]
  }
 ],
 "metadata": {
  "anaconda-cloud": {},
  "kernelspec": {
   "display_name": "Python [default]",
   "language": "python",
   "name": "python3"
  },
  "language_info": {
   "codemirror_mode": {
    "name": "ipython",
    "version": 3
   },
   "file_extension": ".py",
   "mimetype": "text/x-python",
   "name": "python",
   "nbconvert_exporter": "python",
   "pygments_lexer": "ipython3",
   "version": "3.5.2"
  }
 },
 "nbformat": 4,
 "nbformat_minor": 0
}
